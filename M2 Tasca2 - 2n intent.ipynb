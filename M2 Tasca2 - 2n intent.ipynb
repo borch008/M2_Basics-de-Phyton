{
 "cells": [
  {
   "cell_type": "markdown",
   "id": "e02a6572",
   "metadata": {},
   "source": [
    "## Exercici 1\n",
    "*__L'exercici consisteix a crear un programa que et classifiqui una variable numèrica en funció de l’escala Suspès/Aprovat/Notable/Excel·lent.__*\n",
    "\n",
    "*Recorda que Suspès < 5, Aprovat > 5 i < 7, Notable > 7 i < 9 i Excel·lent > 9.*"
   ]
  },
  {
   "cell_type": "code",
   "execution_count": 46,
   "id": "3132d26b",
   "metadata": {},
   "outputs": [
    {
     "name": "stdout",
     "output_type": "stream",
     "text": [
      "Quina nota númerica has tret: 7\n",
      "La nota final és notable\n"
     ]
    }
   ],
   "source": [
    "def nota(x):\n",
    "\n",
    "    if x < 5:\n",
    "        return \"La nota final és suspès\"\n",
    "    elif 5 <= x < 7:\n",
    "        return \"La nota final és arovat\"\n",
    "    elif 7 <= x < 9:\n",
    "        return \"La nota final és notable\"\n",
    "    else:\n",
    "        return \"La nota final és excel·lent\"\n",
    "x = float(input(\"Quina nota númerica has tret: \"))\n",
    "\n",
    "print(nota(x))"
   ]
  },
  {
   "cell_type": "markdown",
   "id": "1bf75b10",
   "metadata": {},
   "source": [
    "## Exercici 2\n",
    "*__Utilitzant el següent tutorial crea un programa que et pregunti dos números. T’ha de mostrar un missatge dient si el primer és més gran, el segon és més gran o són iguals.__*\n",
    "\n",
    "->Programiz: Python Input, Output and Import"
   ]
  },
  {
   "cell_type": "code",
   "execution_count": 47,
   "id": "3f98b154",
   "metadata": {},
   "outputs": [
    {
     "name": "stdout",
     "output_type": "stream",
     "text": [
      "Enter number1: 3\n",
      "Enter number2: 400\n",
      "El número 2 és més gran\n"
     ]
    }
   ],
   "source": [
    "#He corregit aquest exercici ja que m'he adonat que estava malament, tenia un data  type str i en alguns números donava un error\n",
    "def numeros(number1, number2):\n",
    "\n",
    "    if number1 > number2:\n",
    "        return \"El número 1 és més gran\"\n",
    "    elif number1 == number2:\n",
    "        return \"El número 1 és igual al número 2\"\n",
    "    else:\n",
    "        return \"El número 2 és més gran\"\n",
    "    \n",
    "number1 = float(input(\"Enter number1: \"))\n",
    "number2 = float(input(\"Enter number2: \")) \n",
    "\n",
    "\n",
    "print(numeros(number1, number2))\n",
    "\n"
   ]
  },
  {
   "cell_type": "markdown",
   "id": "52e469de",
   "metadata": {},
   "source": [
    "## Exercici 3\n",
    "*__Crea un programa que et pregunti el teu nom, i et demani un número. Si el número és 0, hauria de mostrar un missatge d’error. En cas contrari, hauria de mostrar el nom repetit tants cops com indiqui el número. Per exemple, “Joan Joan Joan”.__*"
   ]
  },
  {
   "cell_type": "code",
   "execution_count": 48,
   "id": "77b231ed",
   "metadata": {},
   "outputs": [
    {
     "name": "stdout",
     "output_type": "stream",
     "text": [
      "Digues el teu nom: Alba\n",
      "Digues un número sencer: 2\n",
      "Alba Alba \n"
     ]
    }
   ],
   "source": [
    "def repeticions(nom, numero):\n",
    "    \n",
    "    if numero == 0:\n",
    "        return \"Error\"\n",
    "    else:\n",
    "        return (nom + \" \") * numero\n",
    "\n",
    "nom = input(\"Digues el teu nom: \")\n",
    "numero = input(\"Digues un número sencer: \")\n",
    "numero = int(numero)\n",
    "\n",
    "print(repeticions(nom, numero))\n",
    "\n"
   ]
  },
  {
   "cell_type": "markdown",
   "id": "31b7d5c4",
   "metadata": {},
   "source": [
    "## Exercici 4\n",
    "*__Crea un programa que donada una llista qualsevol, et digui si és simètrica o no. Si ho és, que et digui quants elements té.__*\n"
   ]
  },
  {
   "cell_type": "code",
   "execution_count": 20,
   "id": "4565ff6e",
   "metadata": {},
   "outputs": [
    {
     "name": "stdout",
     "output_type": "stream",
     "text": [
      "La llista és simètrica i te 5 elements.\n"
     ]
    }
   ],
   "source": [
    "def simetria(llista):\n",
    "    if llista == llista[::-1]:\n",
    "        return True\n",
    "    else:\n",
    "        return False\n",
    "\n",
    "input_llista = [1, 2, [3, 2, 1], 2, 1]\n",
    "\n",
    "if simetria(input_llista):\n",
    "    print(\"La llista és simètrica i te\", len(input_llista), \"elements.\")\n",
    "else:\n",
    "    print(\"La llista no és simètrica\")"
   ]
  },
  {
   "cell_type": "markdown",
   "id": "bc385b9d",
   "metadata": {},
   "source": [
    "### Exercici 5\n",
    "*__Crea un programa que donada una llista, et digui quants números coincideixen amb la seva posició. Per exemple [3,4,2,0,2,3,6] el 2 i el 6 coincideixen.__*"
   ]
  },
  {
   "cell_type": "code",
   "execution_count": 23,
   "id": "bfbe939b",
   "metadata": {},
   "outputs": [
    {
     "name": "stdout",
     "output_type": "stream",
     "text": [
      "Número de coincidencies: 2\n"
     ]
    }
   ],
   "source": [
    "def coincidencies(lista, lista2):\n",
    "    i = 0\n",
    "    for x in range(len(lista)):\n",
    "        if lista[x] == lista2[x]:\n",
    "            i += 1\n",
    "    return i\n",
    "\n",
    "lista = [3, 4, 2, 0, 2, 3, 6, 5]\n",
    "lista2 = list(range(len(lista)))\n",
    "\n",
    "print(\"Número de coincidencies:\", coincidencies(lista, lista2))"
   ]
  }
 ],
 "metadata": {
  "kernelspec": {
   "display_name": "Python 3 (ipykernel)",
   "language": "python",
   "name": "python3"
  },
  "language_info": {
   "codemirror_mode": {
    "name": "ipython",
    "version": 3
   },
   "file_extension": ".py",
   "mimetype": "text/x-python",
   "name": "python",
   "nbconvert_exporter": "python",
   "pygments_lexer": "ipython3",
   "version": "3.9.13"
  }
 },
 "nbformat": 4,
 "nbformat_minor": 5
}
