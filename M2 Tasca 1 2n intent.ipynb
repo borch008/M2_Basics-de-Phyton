{
 "cells": [
  {
   "cell_type": "markdown",
   "id": "5887c8c1",
   "metadata": {},
   "source": [
    "## Exercici 1\n",
    "*__Crea una llista que agrupi els mesos de l’any en trimestres (1T: gener, febrer i març; 2T: abril, maig, juny...), és a dir, una llista amb 4 llistes dins.__*"
   ]
  },
  {
   "cell_type": "code",
   "execution_count": 2,
   "id": "63891e43",
   "metadata": {},
   "outputs": [
    {
     "name": "stdout",
     "output_type": "stream",
     "text": [
      "[['gener', 'febrer', 'març'], ['abril', 'maig', 'juny'], ['juliol', 'agost', 'setembre'], ['octubre', 'novembre', 'desembre']]\n"
     ]
    }
   ],
   "source": [
    "list_any = [ [\"gener\", \"febrer\", \"març\"], [\"abril\", \"maig\", \"juny\"], [\"juliol\", \"agost\", \"setembre\"], [\"octubre\", \"novembre\", \"desembre\"] ]\n",
    "\n",
    "print(list_any)"
   ]
  },
  {
   "cell_type": "markdown",
   "id": "dd1834d9",
   "metadata": {},
   "source": [
    "## Exercici 2\n",
    "**_Crea un codi que et permeti accedir a:_**\n",
    "1. El segon mes del primer trimestre.\n",
    "2. Els mesos del primer trimestre.\n",
    "3. Setembre i octubre."
   ]
  },
  {
   "cell_type": "code",
   "execution_count": 28,
   "id": "94bd0530",
   "metadata": {},
   "outputs": [
    {
     "name": "stdout",
     "output_type": "stream",
     "text": [
      "febrer\n",
      "['gener', 'febrer', 'març']\n",
      "setembre , octubre\n"
     ]
    }
   ],
   "source": [
    "print(list_any[0][1])\n",
    "print(list_any[0])\n",
    "print(list_any[2][2],\",\", list_any[3][0])"
   ]
  },
  {
   "cell_type": "markdown",
   "id": "2f155ceb",
   "metadata": {},
   "source": [
    "## Exercici 3\n",
    "*__Crea una llista amb nombres desordenats i respon a les següents preguntes:__*\n",
    "   1. Quants números hi ha?\n",
    "   2. Quantes vegades apareix el número 3.\n",
    "   3. Quantes vegades apareixen els nombres 3 i 4?\n",
    "   4. Quin és el número més gran?\n",
    "   5. Quins són els 3 números més petits?\n",
    "   6. Quin és el rang d’aquesta llista?"
   ]
  },
  {
   "cell_type": "code",
   "execution_count": 26,
   "id": "cfe32015",
   "metadata": {},
   "outputs": [
    {
     "name": "stdout",
     "output_type": "stream",
     "text": [
      "La listA conté 9 números\n",
      "EL nombre 3 apareix 1 vegades\n",
      "El nombre 3 apareix 1 vegades i el nombre 4 apareix  1  vegades.\n",
      "El nombre més gran és el 12\n",
      "Els nombres més petits son: [1, 1, 2]\n",
      "El rang de la listA és 11\n"
     ]
    }
   ],
   "source": [
    "listA = [1, 5, 12, 3, 4, 8, 2, 9, 1]\n",
    "print(\"La listA conté\", len(listA), \"números\")\n",
    "print(\"EL nombre 3 apareix\", listA.count(3), \"vegades\")\n",
    "print(\"El nombre 3 apareix\", listA.count(3),\"vegades i\",\"el nombre 4 apareix \", listA.count(4), \" vegades.\")\n",
    "print(\"El nombre més gran és el\", max(listA))\n",
    "print(\"Els nombres més petits son:\", sorted(listA)[:3]) #també es pot fer amb la llibreria heapq\n",
    "print(\"El rang de la listA és\", max(listA) - min(listA))"
   ]
  },
  {
   "cell_type": "markdown",
   "id": "9d9fa95f",
   "metadata": {},
   "source": [
    "## Exercici 4\n",
    "*__Crea un diccionari de la següent forma i respon a les preguntes:__*\n",
    "\n",
    "    compra = { \"Pomes\" : {\"Qty\": 5, \"€\": 0.42}, \"Peres\" : {\"Qty\": 3, \"€\": 0.66} }\n",
    "\n",
    "* Afegeix alguna fruita més\n",
    "* Quant han costat les peres en total?\n",
    "* Quantes fruites hem comprat en total?\n",
    "* Quina és la fruita més cara?"
   ]
  },
  {
   "cell_type": "code",
   "execution_count": 32,
   "id": "8b4b00e8",
   "metadata": {},
   "outputs": [
    {
     "name": "stdout",
     "output_type": "stream",
     "text": [
      "El preu total de les Peres és 1.98\n",
      "El total de fruites comprades és 10\n",
      "La fruita més cara és: Platans\n"
     ]
    }
   ],
   "source": [
    "compra = { \"Pomes\" : {\"Qty\": 5, \"€\": 0.42}, \"Peres\" : {\"Qty\": 3, \"€\": 0.66} }\n",
    "compra.update({\"Platans\" : {\"Qty\": 2, \"€\": 1.12}})\n",
    "\n",
    "print(\"El preu total de les Peres és\", compra[\"Peres\"][\"Qty\"]*compra[\"Peres\"][\"€\"]) \n",
    "\n",
    "qtat_total = 0\n",
    "for fruita in compra.values():\n",
    "    qtat_total += fruita[\"Qty\"]\n",
    "print(\"El total de fruites comprades és\", qtat_total)\n",
    "\n",
    "fruita_mes_cara = \"\"\n",
    "preu_maxim = 0\n",
    "for fruita, dades in compra.items():\n",
    "    preu = dades[\"€\"]\n",
    "    if preu > preu_maxim:\n",
    "        fruita_mes_cara = fruita\n",
    "        preu_maxim = preu\n",
    "        \n",
    "print(\"La fruita més cara és:\", fruita_mes_cara)"
   ]
  }
 ],
 "metadata": {
  "kernelspec": {
   "display_name": "Python 3 (ipykernel)",
   "language": "python",
   "name": "python3"
  },
  "language_info": {
   "codemirror_mode": {
    "name": "ipython",
    "version": 3
   },
   "file_extension": ".py",
   "mimetype": "text/x-python",
   "name": "python",
   "nbconvert_exporter": "python",
   "pygments_lexer": "ipython3",
   "version": "3.9.13"
  }
 },
 "nbformat": 4,
 "nbformat_minor": 5
}
