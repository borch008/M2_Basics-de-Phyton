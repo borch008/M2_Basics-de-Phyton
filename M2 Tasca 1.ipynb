{
 "cells": [
  {
   "cell_type": "markdown",
   "id": "5887c8c1",
   "metadata": {},
   "source": [
    "## Exercici 1\n",
    "*__Crea una llista que agrupi els mesos de l’any en trimestres (1T: gener, febrer i març; 2T: abril, maig, juny...), és a dir, una llista amb 4 llistes dins.__*"
   ]
  },
  {
   "cell_type": "code",
   "execution_count": 1,
   "id": "63891e43",
   "metadata": {},
   "outputs": [
    {
     "name": "stdout",
     "output_type": "stream",
     "text": [
      "['gener', 'febrer', 'març', 'abril', 'maig', 'juny', 'juliol', 'agost', 'setembre', 'octubre', 'novembre', 'desembre']\n"
     ]
    }
   ],
   "source": [
    "list1T = [\"gener\", \"febrer\", \"març\"]\n",
    "list2T = [\"abril\", \"maig\", \"juny\"]\n",
    "list3T = [\"juliol\", \"agost\", \"setembre\"]\n",
    "list4T = [\"octubre\", \"novembre\", \"desembre\"]\n",
    "\n",
    "list_any = list1T + list2T + list3T + list4T\n",
    "\n",
    "print(list_any)"
   ]
  },
  {
   "cell_type": "markdown",
   "id": "dd1834d9",
   "metadata": {},
   "source": [
    "## Exercici 2\n",
    "**_Crea un codi que et permeti accedir a:_**\n",
    "1. El segon mes del primer trimestre.\n",
    "2. Els mesos del primer trimestre.\n",
    "3. Setembre i octubre."
   ]
  },
  {
   "cell_type": "code",
   "execution_count": 12,
   "id": "94bd0530",
   "metadata": {},
   "outputs": [
    {
     "name": "stdout",
     "output_type": "stream",
     "text": [
      "febrer\n",
      "['gener', 'febrer', 'març']\n",
      "['setembre', 'octubre']\n"
     ]
    }
   ],
   "source": [
    "print(list1T[1])\n",
    "print(list1T)\n",
    "print(list_any[-4:-2])"
   ]
  },
  {
   "cell_type": "markdown",
   "id": "2f155ceb",
   "metadata": {},
   "source": [
    "## Exercici 3\n",
    "*__Crea una llista amb nombres desordenats i respon a les següents preguntes:__*\n",
    "   1. Quants números hi ha?\n",
    "   2. Quantes vegades apareix el número 3.\n",
    "   3. Quantes vegades apareixen els nombres 3 i 4?\n",
    "   4. Quin és el número més gran?\n",
    "   5. Quins són els 3 números més petits?\n",
    "   6. Quin és el rang d’aquesta llista?"
   ]
  },
  {
   "cell_type": "code",
   "execution_count": 21,
   "id": "cfe32015",
   "metadata": {},
   "outputs": [
    {
     "name": "stdout",
     "output_type": "stream",
     "text": [
      "9\n",
      "1\n",
      "El nombre 3 apareix  1 vegades i el nombre 4 apareix  1  vegades.\n",
      "12\n",
      "[1, 1, 2]\n",
      "El rang de la listA va de  1  a  12\n"
     ]
    }
   ],
   "source": [
    "listA = [1, 5, 12, 3, 4, 8, 2, 9, 1]\n",
    "print(len(listA))\n",
    "print(listA.count(3))\n",
    "print(\"El nombre 3 apareix \", listA.count(3),\"vegades i\",\"el nombre 4 apareix \", listA.count(4), \" vegades.\")\n",
    "print(max(listA))\n",
    "print(sorted(listA)[:3]) #també es pot fer amb la llibreria heapq\n",
    "print(\"El rang de la listA va de \", min(listA), \" a \", max(listA))"
   ]
  },
  {
   "cell_type": "markdown",
   "id": "9d9fa95f",
   "metadata": {},
   "source": [
    "## Exercici 4\n",
    "*__Crea un diccionari de la següent forma i respon a les preguntes:__*\n",
    "\n",
    "    compra = { \"Pomes\" : {\"Qty\": 5, \"€\": 0.42}, \"Peres\" : {\"Qty\": 3, \"€\": 0.66} }\n",
    "\n",
    "* Afegeix alguna fruita més\n",
    "* Quant han costat les peres en total?\n",
    "* Quantes fruites hem comprat en total?\n",
    "* Quina és la fruita més cara?"
   ]
  },
  {
   "cell_type": "code",
   "execution_count": 8,
   "id": "8b4b00e8",
   "metadata": {},
   "outputs": [
    {
     "name": "stdout",
     "output_type": "stream",
     "text": [
      "{'Pomes': {'Qty': 5, '€': 0.42}, 'Peres': {'Qty': 3, '€': 0.66}, 'Platans': {'Qty': 2, '€': 1.12}}\n",
      "1.98\n",
      "10\n",
      "La fruita més cara és: Platans\n"
     ]
    }
   ],
   "source": [
    "compra = { \"Pomes\" : {\"Qty\": 5, \"€\": 0.42}, \"Peres\" : {\"Qty\": 3, \"€\": 0.66} }\n",
    "compra.update({\"Platans\" : {\"Qty\": 2, \"€\": 1.12}})\n",
    "print(compra)\n",
    "print(compra[\"Peres\"][\"Qty\"]*compra[\"Peres\"][\"€\"])\n",
    "print(compra[\"Pomes\"][\"Qty\"]+compra[\"Peres\"][\"Qty\"]+compra[\"Platans\"][\"Qty\"])\n",
    "\n",
    "fruita_més_cara = \"\"\n",
    "preu_màxim = 0\n",
    "for fruita, dades in compra.items():\n",
    "    preu = dades[\"€\"]\n",
    "    if preu > preu_màxim:\n",
    "        fruita_més_cara = fruita\n",
    "        preu_màxim = preu\n",
    "\n",
    "print(\"La fruita més cara és:\", fruita_més_cara) #Reconec que m'he ajudat del chat.openai encara que tenia un error en el seu resultat"
   ]
  },
  {
   "cell_type": "code",
   "execution_count": null,
   "id": "ef8091a7",
   "metadata": {},
   "outputs": [],
   "source": []
  }
 ],
 "metadata": {
  "kernelspec": {
   "display_name": "Python 3 (ipykernel)",
   "language": "python",
   "name": "python3"
  },
  "language_info": {
   "codemirror_mode": {
    "name": "ipython",
    "version": 3
   },
   "file_extension": ".py",
   "mimetype": "text/x-python",
   "name": "python",
   "nbconvert_exporter": "python",
   "pygments_lexer": "ipython3",
   "version": "3.9.13"
  }
 },
 "nbformat": 4,
 "nbformat_minor": 5
}
