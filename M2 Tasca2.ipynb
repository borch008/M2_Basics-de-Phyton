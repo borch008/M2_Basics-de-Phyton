{
 "cells": [
  {
   "cell_type": "markdown",
   "id": "e02a6572",
   "metadata": {},
   "source": [
    "## Exercici 1\n",
    "*__L'exercici consisteix a crear un programa que et classifiqui una variable numèrica en funció de l’escala Suspès/Aprovat/Notable/Excel·lent.__*\n",
    "\n",
    "*Recorda que Suspès < 5, Aprovat > 5 i < 7, Notable > 7 i < 9 i Excel·lent > 9.*"
   ]
  },
  {
   "cell_type": "code",
   "execution_count": 1,
   "id": "3132d26b",
   "metadata": {},
   "outputs": [
    {
     "name": "stdout",
     "output_type": "stream",
     "text": [
      "Notable\n"
     ]
    }
   ],
   "source": [
    "x = 8\n",
    "if x < 5:\n",
    "    print(\"Suspès\")\n",
    "elif 5 <= x < 7:\n",
    "    print(\"Aprovat\")\n",
    "else:\n",
    "    if 7 <= x < 9:\n",
    "        print(\"Notable\")\n",
    "    else:\n",
    "        print (\"Excel·lent\")"
   ]
  },
  {
   "cell_type": "markdown",
   "id": "1bf75b10",
   "metadata": {},
   "source": [
    "## Exercici 2\n",
    "*__Utilitzant el següent tutorial crea un programa que et pregunti dos números. T’ha de mostrar un missatge dient si el primer és més gran, el segon és més gran o són iguals.__*\n",
    "\n",
    "->Programiz: Python Input, Output and Import"
   ]
  },
  {
   "cell_type": "code",
   "execution_count": 2,
   "id": "3f98b154",
   "metadata": {},
   "outputs": [
    {
     "name": "stdout",
     "output_type": "stream",
     "text": [
      "Enter number1: 1\n",
      "Enter number2: 2\n",
      "El número 2 és més gran\n"
     ]
    }
   ],
   "source": [
    "number1 = input(\"Enter number1: \")\n",
    "number2 = input(\"Enter number2: \")\n",
    "\n",
    "if number1 > number2:\n",
    "    print(\"El número 1 és més gran\")\n",
    "elif number1 == number2:\n",
    "    print (\"El número 1 és igual al número 2\")\n",
    "else:\n",
    "    print(\"El número 2 és més gran\")"
   ]
  },
  {
   "cell_type": "markdown",
   "id": "52e469de",
   "metadata": {},
   "source": [
    "## Exercici 3\n",
    "*__Crea un programa que et pregunti el teu nom, i et demani un número. Si el número és 0, hauria de mostrar un missatge d’error. En cas contrari, hauria de mostrar el nom repetit tants cops com indiqui el número. Per exemple, “Joan Joan Joan”.__*"
   ]
  },
  {
   "cell_type": "code",
   "execution_count": 3,
   "id": "77b231ed",
   "metadata": {},
   "outputs": [
    {
     "name": "stdout",
     "output_type": "stream",
     "text": [
      "Digues el teu nom: Maria\n",
      "Digues un número: 5\n",
      "Maria Maria Maria Maria Maria \n"
     ]
    }
   ],
   "source": [
    "nom = input(\"Digues el teu nom: \")\n",
    "numero = input(\"Digues un número: \")\n",
    "numero = int(numero)\n",
    "\n",
    "if numero == 0:\n",
    "    print(\"Error\")\n",
    "else:\n",
    "    print((nom + \" \") * numero)"
   ]
  },
  {
   "cell_type": "markdown",
   "id": "31b7d5c4",
   "metadata": {},
   "source": [
    "## Exercici 4\n",
    "*__Crea un programa que donada una llista qualsevol, et digui si és simètrica o no. Si ho és, que et digui quants elements té.__*\n"
   ]
  },
  {
   "cell_type": "code",
   "execution_count": 5,
   "id": "4565ff6e",
   "metadata": {},
   "outputs": [
    {
     "name": "stdout",
     "output_type": "stream",
     "text": [
      "Ingrese un valor: 1\n",
      "Ingrese un valor: 2\n",
      "Ingrese un valor: 2\n",
      "La lista no és simètrica\n"
     ]
    }
   ],
   "source": [
    "lista = []\n",
    "\n",
    "for x in range(3):\n",
    "    valor = input(\"Ingrese un valor: \")\n",
    "    lista.append(valor)\n",
    "    lista2 = lista[::-1]    \n",
    "\n",
    "if lista != lista2:\n",
    "    print(\"La lista no és simètrica\")\n",
    "else:\n",
    "    print(len(lista))"
   ]
  },
  {
   "cell_type": "markdown",
   "id": "bc385b9d",
   "metadata": {},
   "source": [
    "## Exercici 5\n",
    "*__Crea un programa que donada una llista, et digui quants números coincideixen amb la seva posició. Per exemple [3,4,2,0,2,3,6] el 2 i el 6 coincideixen.__*"
   ]
  },
  {
   "cell_type": "code",
   "execution_count": 8,
   "id": "bfbe939b",
   "metadata": {},
   "outputs": [
    {
     "name": "stdout",
     "output_type": "stream",
     "text": [
      "Número de coincidencies: 2\n"
     ]
    }
   ],
   "source": [
    "def coincidencies(lista, lista2):\n",
    "    i = 0\n",
    "    for x in range(len(lista)):\n",
    "        if lista[x] == lista2[x]:\n",
    "            i += 1\n",
    "    return i\n",
    "\n",
    "lista = [3, 4, 2, 0, 2, 3, 6]\n",
    "lista2 = list(range(len(lista)))\n",
    "\n",
    "print(\"Número de coincidencies:\", coincidencies(lista, lista2))"
   ]
  },
  {
   "cell_type": "code",
   "execution_count": null,
   "id": "ef48377c",
   "metadata": {},
   "outputs": [],
   "source": []
  }
 ],
 "metadata": {
  "kernelspec": {
   "display_name": "Python 3 (ipykernel)",
   "language": "python",
   "name": "python3"
  },
  "language_info": {
   "codemirror_mode": {
    "name": "ipython",
    "version": 3
   },
   "file_extension": ".py",
   "mimetype": "text/x-python",
   "name": "python",
   "nbconvert_exporter": "python",
   "pygments_lexer": "ipython3",
   "version": "3.9.13"
  }
 },
 "nbformat": 4,
 "nbformat_minor": 5
}
